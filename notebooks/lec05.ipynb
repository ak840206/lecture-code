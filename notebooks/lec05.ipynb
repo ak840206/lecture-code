{
 "cells": [
  {
   "cell_type": "code",
   "execution_count": 1,
   "id": "excited-carol",
   "metadata": {},
   "outputs": [],
   "source": [
    "import requests\n",
    "import json"
   ]
  },
  {
   "cell_type": "code",
   "execution_count": 2,
   "id": "freelance-symphony",
   "metadata": {},
   "outputs": [],
   "source": [
    "with open('reddit-pass', 'r') as file:\n",
    "    psswd = file.read().replace('\\n','')"
   ]
  },
  {
   "cell_type": "code",
   "execution_count": 4,
   "id": "stunning-calculator",
   "metadata": {},
   "outputs": [],
   "source": [
    "auth = requests.auth.HTTPBasicAuth(\"8s2Qk9rFz6H_IA\", \"mGFr94Ko8Gxq9Vkma9rDN6Cbz1Z4kw\")"
   ]
  },
  {
   "cell_type": "code",
   "execution_count": 6,
   "id": "acknowledged-canvas",
   "metadata": {},
   "outputs": [],
   "source": [
    "data = {'grant_type': 'password',\n",
    "        'username':    \"jmct\",\n",
    "        'password':    psswd }"
   ]
  },
  {
   "cell_type": "code",
   "execution_count": 7,
   "id": "overall-reality",
   "metadata": {},
   "outputs": [],
   "source": [
    "headers = {'User-Agent': 'cmsc320/1.0'}"
   ]
  },
  {
   "cell_type": "code",
   "execution_count": 8,
   "id": "advisory-password",
   "metadata": {},
   "outputs": [],
   "source": [
    "r = requests.post('https://www.reddit.com/api/v1/access_token',\n",
    "                  auth=auth, data=data, headers=headers)"
   ]
  },
  {
   "cell_type": "code",
   "execution_count": 9,
   "id": "thermal-valve",
   "metadata": {},
   "outputs": [],
   "source": [
    "REDDIT_TOKEN = r.json()['access_token']"
   ]
  },
  {
   "cell_type": "code",
   "execution_count": 10,
   "id": "genuine-economy",
   "metadata": {},
   "outputs": [
    {
     "data": {
      "text/plain": [
       "'6486906-hWuU0vqhNfAf3bc5WqEvhxkAdoO0Wg'"
      ]
     },
     "execution_count": 10,
     "metadata": {},
     "output_type": "execute_result"
    }
   ],
   "source": [
    "REDDIT_TOKEN"
   ]
  },
  {
   "cell_type": "code",
   "execution_count": 11,
   "id": "lonely-trader",
   "metadata": {},
   "outputs": [],
   "source": [
    "headers = {**headers, **{'Authorization':f\"bearer {REDDIT_TOKEN}\"}}"
   ]
  },
  {
   "cell_type": "code",
   "execution_count": null,
   "id": "given-circular",
   "metadata": {},
   "outputs": [],
   "source": [
    "{**headers, **{'Authorization':f\"bearer {REDDIT_TOKEN}\"}}"
   ]
  },
  {
   "cell_type": "code",
   "execution_count": 15,
   "id": "breeding-galaxy",
   "metadata": {},
   "outputs": [],
   "source": [
    "me = requests.get('https://oauth.reddit.com/api/v1/me', headers=headers)\n",
    "karma = requests.get('https://oauth.reddit.com/api/v1/me/karma', headers=headers)"
   ]
  },
  {
   "cell_type": "code",
   "execution_count": 16,
   "id": "printable-petersburg",
   "metadata": {},
   "outputs": [
    {
     "name": "stdout",
     "output_type": "stream",
     "text": [
      "{'kind': 'KarmaList', 'data': [{'sr': 'haskell', 'comment_karma': 552, 'link_karma': 209}, {'sr': 'askscience', 'comment_karma': 212, 'link_karma': 15}, {'sr': 'Music', 'comment_karma': 205, 'link_karma': 12}, {'sr': 'programming', 'comment_karma': 181, 'link_karma': 4}, {'sr': 'compsci', 'comment_karma': 8, 'link_karma': 177}, {'sr': 'technology', 'comment_karma': 104, 'link_karma': 1}, {'sr': 'AskReddit', 'comment_karma': 95, 'link_karma': 1}, {'sr': 'TwoXChromosomes', 'comment_karma': 48, 'link_karma': 42}, {'sr': 'yrc', 'comment_karma': 12, 'link_karma': 69}, {'sr': 'linux', 'comment_karma': 18, 'link_karma': 61}, {'sr': 'Republican', 'comment_karma': 70, 'link_karma': 1}, {'sr': 'law', 'comment_karma': 9, 'link_karma': 46}, {'sr': 'politics', 'comment_karma': 33, 'link_karma': 12}, {'sr': 'pics', 'comment_karma': 27, 'link_karma': 18}, {'sr': 'TrueReddit', 'comment_karma': 43, 'link_karma': 1}, {'sr': 'reddit.com', 'comment_karma': 41, 'link_karma': 1}, {'sr': 'Physics', 'comment_karma': 24, 'link_karma': 14}, {'sr': 'apple', 'comment_karma': 0, 'link_karma': 35}, {'sr': 'AskHistorians', 'comment_karma': 32, 'link_karma': 1}, {'sr': 'science', 'comment_karma': 24, 'link_karma': 5}, {'sr': 'math', 'comment_karma': 25, 'link_karma': 1}, {'sr': 'education', 'comment_karma': 6, 'link_karma': 18}, {'sr': 'musictheory', 'comment_karma': 23, 'link_karma': 1}, {'sr': 'Conservative', 'comment_karma': 20, 'link_karma': 1}, {'sr': 'scifi', 'comment_karma': 5, 'link_karma': 15}, {'sr': 'thebutton', 'comment_karma': 19, 'link_karma': 1}, {'sr': 'ProgrammingLanguages', 'comment_karma': 19, 'link_karma': 1}, {'sr': 'apexlegends', 'comment_karma': 6, 'link_karma': 12}, {'sr': 'BabyBumps', 'comment_karma': 16, 'link_karma': 1}, {'sr': 'Guitar', 'comment_karma': 11, 'link_karma': 4}, {'sr': 'funny', 'comment_karma': 3, 'link_karma': 11}, {'sr': 'television', 'comment_karma': 14, 'link_karma': 1}, {'sr': 'britishproblems', 'comment_karma': 5, 'link_karma': 8}, {'sr': 'architecture', 'comment_karma': 13, 'link_karma': 1}, {'sr': 'jazzguitar', 'comment_karma': 2, 'link_karma': 11}, {'sr': 'iamverysmart', 'comment_karma': 11, 'link_karma': 1}, {'sr': 'C_Programming', 'comment_karma': 9, 'link_karma': 1}, {'sr': 'Clojure', 'comment_karma': 0, 'link_karma': 8}, {'sr': 'functionalprogramming', 'comment_karma': 8, 'link_karma': 1}, {'sr': 'Virginia', 'comment_karma': 7, 'link_karma': 1}, {'sr': 'ColbertRally', 'comment_karma': 6, 'link_karma': 1}, {'sr': 'classicalmusic', 'comment_karma': 6, 'link_karma': 1}, {'sr': 'IAmA', 'comment_karma': 6, 'link_karma': 1}, {'sr': 'york', 'comment_karma': 6, 'link_karma': 1}, {'sr': 'worldnews', 'comment_karma': 5, 'link_karma': 1}, {'sr': 'learnmath', 'comment_karma': 4, 'link_karma': 1}, {'sr': 'AskSciencePanel', 'comment_karma': 4, 'link_karma': 1}, {'sr': 'gifs', 'comment_karma': 4, 'link_karma': 1}, {'sr': 'John_Frusciante', 'comment_karma': 3, 'link_karma': 1}, {'sr': 'Jazz', 'comment_karma': 3, 'link_karma': 1}, {'sr': 'Python', 'comment_karma': 3, 'link_karma': 1}, {'sr': 'archlinux', 'comment_karma': 3, 'link_karma': 1}, {'sr': 'tea', 'comment_karma': 3, 'link_karma': 1}, {'sr': 'google', 'comment_karma': 3, 'link_karma': 1}, {'sr': 'Dexter', 'comment_karma': 2, 'link_karma': 1}, {'sr': 'asoiaf', 'comment_karma': 2, 'link_karma': 1}, {'sr': 'dailyprogrammer', 'comment_karma': 2, 'link_karma': 1}, {'sr': 'cogsci', 'comment_karma': 0, 'link_karma': 2}, {'sr': 'UniversityofReddit', 'comment_karma': 2, 'link_karma': 1}, {'sr': 'AdviceAnimals', 'comment_karma': 2, 'link_karma': 1}, {'sr': 'relationship_advice', 'comment_karma': 2, 'link_karma': 1}, {'sr': 'gaming', 'comment_karma': 2, 'link_karma': 1}, {'sr': 'bestof', 'comment_karma': 0, 'link_karma': 1}]}\n"
     ]
    }
   ],
   "source": [
    "print(karma.json())"
   ]
  },
  {
   "cell_type": "code",
   "execution_count": null,
   "id": "postal-undergraduate",
   "metadata": {},
   "outputs": [],
   "source": [
    "shorties     = requests.get(\"https://oauth.reddit.com/r/ShortyStories/top.json\", headers=headers)\n",
    "shortiesGOAT = requests.get(\"https://oauth.reddit.com/r/ShortyStories/top.json?limit=25&t=all\", headers=headers)"
   ]
  },
  {
   "cell_type": "code",
   "execution_count": null,
   "id": "described-healing",
   "metadata": {},
   "outputs": [],
   "source": [
    "print(shorties.json())"
   ]
  },
  {
   "cell_type": "code",
   "execution_count": null,
   "id": "mechanical-physics",
   "metadata": {},
   "outputs": [],
   "source": [
    "all_posts = shorties.json()['data']['children']\n",
    "\n",
    "for post in all_posts:\n",
    "    print(\"# \" + post['data']['title'])"
   ]
  },
  {
   "cell_type": "code",
   "execution_count": null,
   "id": "specific-picking",
   "metadata": {},
   "outputs": [],
   "source": [
    "all_posts[42]"
   ]
  },
  {
   "cell_type": "code",
   "execution_count": null,
   "id": "broke-gospel",
   "metadata": {},
   "outputs": [],
   "source": []
  },
  {
   "cell_type": "code",
   "execution_count": null,
   "id": "perfect-satisfaction",
   "metadata": {},
   "outputs": [],
   "source": []
  }
 ],
 "metadata": {
  "kernelspec": {
   "display_name": "Python 3",
   "language": "python",
   "name": "python3"
  },
  "language_info": {
   "codemirror_mode": {
    "name": "ipython",
    "version": 3
   },
   "file_extension": ".py",
   "mimetype": "text/x-python",
   "name": "python",
   "nbconvert_exporter": "python",
   "pygments_lexer": "ipython3",
   "version": "3.8.6"
  }
 },
 "nbformat": 4,
 "nbformat_minor": 5
}
