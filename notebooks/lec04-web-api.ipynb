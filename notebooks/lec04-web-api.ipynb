{
 "cells": [
  {
   "cell_type": "code",
   "execution_count": null,
   "id": "excited-carol",
   "metadata": {},
   "outputs": [],
   "source": [
    "import requests\n",
    "import json"
   ]
  },
  {
   "cell_type": "markdown",
   "id": "7d63eff0-0703-43b4-93c0-97b09ee1f4a2",
   "metadata": {},
   "source": [
    "We don't want you all to have access to the password, so it is stored locally on my machine.\n",
    "\n",
    "We just read it from that file before using it:"
   ]
  },
  {
   "cell_type": "code",
   "execution_count": null,
   "id": "freelance-symphony",
   "metadata": {},
   "outputs": [],
   "source": [
    "with open('reddit-pass', 'r') as file:\n",
    "    psswd = file.read().replace('\\n','')"
   ]
  },
  {
   "cell_type": "markdown",
   "id": "2f09861c-3446-4c1f-99f6-8095ed1154de",
   "metadata": {},
   "source": [
    "All of the information about how to access Reddit's API can be found on their documentation page [https://www.reddit.com/dev/api/](https://www.reddit.com/dev/api/).\n",
    "\n",
    "Unfortunately there are no universal rules for all APIs. So you'll have to get used to reading the documentation for the service/API that you're trying to use.\n",
    "\n",
    "Below we have to provide the two hashes (both are provided by Reddit when we create an 'App'):\n",
    "\n",
    "* Our ID Hash\n",
    "* Our secret Hash"
   ]
  },
  {
   "cell_type": "code",
   "execution_count": null,
   "id": "stunning-calculator",
   "metadata": {},
   "outputs": [],
   "source": [
    "auth = requests.auth.HTTPBasicAuth(\"rGQNNzCHhqnDDav5zERGEA\", \"qNV2hJnaL7CFM3xEf7qNitFkn1En5g\")"
   ]
  },
  {
   "cell_type": "markdown",
   "id": "66d66e82-e82c-491e-96a3-6167b733ba71",
   "metadata": {},
   "source": [
    "In addition to the 'App' identity and secret, Reddit also requires that we identify which user has created this application."
   ]
  },
  {
   "cell_type": "code",
   "execution_count": null,
   "id": "acknowledged-canvas",
   "metadata": {},
   "outputs": [],
   "source": [
    "data = {'grant_type': 'password',\n",
    "        'username':    \"cmsc320-demo\",\n",
    "        'password':    psswd }"
   ]
  },
  {
   "cell_type": "markdown",
   "id": "575b14f0-3697-40de-ba1a-da9dfa3d9807",
   "metadata": {},
   "source": [
    "Lastly, we need to name our bot/application. I've decided to name it 'cmsc320/1.0', because I'm boring."
   ]
  },
  {
   "cell_type": "code",
   "execution_count": null,
   "id": "overall-reality",
   "metadata": {},
   "outputs": [],
   "source": [
    "init_headers = {'User-Agent': 'cmsc320/1.0'}"
   ]
  },
  {
   "cell_type": "markdown",
   "id": "625f8252-e09e-4341-a6c1-913ee4f73d99",
   "metadata": {},
   "source": [
    "Putting it all together, we create a POST request. This sends all of our data (`auth`, `data`, and `headers`) to Reddit.\n",
    "\n",
    "The Reddit servers can then determine whether we should be allowed to access information about the `cmsc320-demo` account. If so, we get a response that includes an _access token_.\n",
    "\n",
    "Notice that we throw an exception if the status code of our response does not signify success (200)."
   ]
  },
  {
   "cell_type": "code",
   "execution_count": null,
   "id": "advisory-password",
   "metadata": {},
   "outputs": [],
   "source": [
    "r = requests.post('https://www.reddit.com/api/v1/access_token',\n",
    "                  auth=auth, data=data, headers=headers)\n",
    "\n",
    "if r.status_code != 200:\n",
    "    raise requests.ConnectionError(\"We can't continue if the request was not successful. :(\")"
   ]
  },
  {
   "cell_type": "markdown",
   "id": "33e31690-1657-4b9f-b433-c08524982147",
   "metadata": {},
   "source": [
    "We don't have to care about the value of the access TOKEN, it's just a way that we can show the Reddit servers \"hey, we already authenticated\".\n",
    "\n",
    "Different APIs will have tokens expire at different rates.\n",
    "\n",
    "It's not clear how long a TOKEN from Reddit lasts, because it's not in the documentation! Could be 30 minutes, could be a few hours, could be a few years! lol\n",
    "\n",
    "If your code seems to be working, and then suddenly you start getting 401 or 403 responses from the server, you may need to re-authenticate."
   ]
  },
  {
   "cell_type": "code",
   "execution_count": null,
   "id": "thermal-valve",
   "metadata": {},
   "outputs": [],
   "source": [
    "REDDIT_TOKEN = r.json()['access_token']\n",
    "\n",
    "REDDIT_TOKEN"
   ]
  },
  {
   "cell_type": "markdown",
   "id": "6cab0a0b-7330-4132-aa14-e9fcb4263a76",
   "metadata": {},
   "source": [
    "The syntax below is useful to know, so let's have a go:\n",
    "\n",
    "When you have a dictionary (`init_headers`, in this case), and you would like _each item in the dictionary_ to become an item _in a new dictionary_, you can use the `**` syntax. Which roughly translates to \"take each item in the following dictionary, and insert it into the dictionary I'm currently creating\"."
   ]
  },
  {
   "cell_type": "code",
   "execution_count": null,
   "id": "lonely-trader",
   "metadata": {},
   "outputs": [],
   "source": [
    "headers = {**init_headers, **{'Authorization':f\"bearer {REDDIT_TOKEN}\"}}"
   ]
  },
  {
   "cell_type": "markdown",
   "id": "54a4bb88-a3cc-4455-be55-36cafbfea7de",
   "metadata": {},
   "source": [
    "Just to show you the result, we print it out below.\n",
    "We have a single level dictionary that is made up of each element from the two dictionaries we used `**` on.\n",
    "\n",
    "In this case it's not very interesting, but we wanted to show you this syntax.\n",
    "\n",
    "One question to ask yourself: What would happen if we just removed both of the `**`s above?"
   ]
  },
  {
   "cell_type": "code",
   "execution_count": null,
   "id": "given-circular",
   "metadata": {},
   "outputs": [],
   "source": [
    "headers"
   ]
  },
  {
   "cell_type": "markdown",
   "id": "b8db5994-a3bf-4bd3-a732-d64fdb2d25b1",
   "metadata": {},
   "source": [
    "Now we can start _using_ the API.\n",
    "\n",
    "For example, the reddit API allows us to ask questions about the user we authenticated as. Below we as for information about `cmsc320-demo` as a user, and we ask for information regarding their 'karma' (the points system that reddit uses to encourage engagement).\n",
    "\n",
    "Documentation for these API calls/endpoints are as follows:\n",
    "\n",
    "* [endpoint for information on 'me'](https://www.reddit.com/dev/api#GET_api_v1_me)\n",
    "\n",
    "* [endpoint for information on 'my karma'](https://www.reddit.com/dev/api#GET_api_v1_me_karma)"
   ]
  },
  {
   "cell_type": "code",
   "execution_count": null,
   "id": "breeding-galaxy",
   "metadata": {},
   "outputs": [],
   "source": [
    "me = requests.get('https://oauth.reddit.com/api/v1/me', headers=headers)\n",
    "karma = requests.get('https://oauth.reddit.com/api/v1/me/karma', headers=headers)"
   ]
  },
  {
   "cell_type": "code",
   "execution_count": null,
   "id": "printable-petersburg",
   "metadata": {},
   "outputs": [],
   "source": [
    "print(karma.json())"
   ]
  },
  {
   "cell_type": "code",
   "execution_count": null,
   "id": "f46c7236-5dc4-4b5b-a3cd-5f798cf7978e",
   "metadata": {},
   "outputs": [],
   "source": [
    "len(me.json())"
   ]
  },
  {
   "cell_type": "markdown",
   "id": "b54403c8-7499-438b-88bd-3451184d030e",
   "metadata": {},
   "source": [
    "We can also get information about specific subreddits (specialized communities for a specific topic).\n",
    "\n",
    "There is a subreddit where users can submit short stories. We can ask for the 'top' submissions.\n",
    "\n",
    "The 'top' submissions will be the current popular submissions on the subreddit. The documentation does not specify how far back in time it will consider for a 'top' submission, why would it? That would be useful. In fact, the documentation barely says anything [documentation for 'top'](https://www.reddit.com/dev/api#GET_top)"
   ]
  },
  {
   "cell_type": "code",
   "execution_count": null,
   "id": "postal-undergraduate",
   "metadata": {},
   "outputs": [],
   "source": [
    "shorties      = requests.get(\"https://oauth.reddit.com/r/shortstories/top.json\", headers=headers)\n",
    "shorties_json = shorties.json()\n",
    "len(str(shorties_json))"
   ]
  },
  {
   "cell_type": "markdown",
   "id": "46e2d73e-cabd-482d-9d26-1eda09e2792e",
   "metadata": {},
   "source": [
    "As you can see, there is a lot of information that is provided. While you can print it out and investigate, it's better to use the documentation to see how you might use it.\n",
    "\n",
    "Another thing we can ask of a subreddit is \"what are the top submissions of all time\":"
   ]
  },
  {
   "cell_type": "code",
   "execution_count": null,
   "id": "343f9b6f-560f-4e4d-866d-65e4b2b78d34",
   "metadata": {},
   "outputs": [],
   "source": [
    "shortiesGOAT = requests.get(\"https://oauth.reddit.com/r/shortstories/top.json?limit=25&t=all\", headers=headers)\n",
    "goat_json    = shortiesGOAT.json()\n",
    "len(str(goat_json))"
   ]
  },
  {
   "cell_type": "markdown",
   "id": "5203d6c3-c0df-44af-b151-e6bf4bf02a32",
   "metadata": {},
   "source": [
    "Notice that's bigger!\n",
    "\n",
    "If we look at the documentation for a `listing` (the thing that reddit gives up back), we can see how to look things up in that listing.\n",
    "\n",
    "[documentation for a 'listing'](https://www.reddit.com/dev/api#listings).\n",
    "\n",
    "However the documentation is pretty sparse. Another approach is to list the keys in the resulting dictionary to see what might be available/interesting:"
   ]
  },
  {
   "cell_type": "code",
   "execution_count": null,
   "id": "2b94393a-8bf1-4f30-8e18-4a908391d2e4",
   "metadata": {},
   "outputs": [],
   "source": [
    "shorties_json.keys()"
   ]
  },
  {
   "cell_type": "markdown",
   "id": "56d1307f-889d-4ed9-a3d5-3f2f62ec9c8f",
   "metadata": {},
   "source": [
    "`data` seems interesting, let's see what's in there:"
   ]
  },
  {
   "cell_type": "code",
   "execution_count": null,
   "id": "5c8ff403-5c1b-42e6-9a06-e9c9efe58f3e",
   "metadata": {},
   "outputs": [],
   "source": [
    "shorties_json['data'].keys()"
   ]
  },
  {
   "cell_type": "markdown",
   "id": "8835ca6b-c90b-4abe-8a12-daa1a519998f",
   "metadata": {},
   "source": [
    "so on and so forth...\n",
    "\n",
    "It can be a tedious process, made less tedious if the documentation is thorough. Think about this when you're wondering whether it's worth documenting your own code :)"
   ]
  },
  {
   "cell_type": "code",
   "execution_count": null,
   "id": "mechanical-physics",
   "metadata": {},
   "outputs": [],
   "source": [
    "all_posts = shorties.json()['data']['children']\n",
    "\n",
    "for post in all_posts:\n",
    "    print(\"# \" + post['data']['title'])"
   ]
  },
  {
   "cell_type": "code",
   "execution_count": null,
   "id": "9472b81f-20b3-4c36-b936-8c4ccc0cbdd5",
   "metadata": {},
   "outputs": [],
   "source": [
    "all_posts = shortiesGOAT.json()['data']['children']\n",
    "\n",
    "for post in all_posts:\n",
    "    print(\"# \" + post['data']['title'])"
   ]
  },
  {
   "cell_type": "code",
   "execution_count": null,
   "id": "94c8be9a-fcac-4cb3-8090-cfd8de20be3c",
   "metadata": {},
   "outputs": [],
   "source": []
  }
 ],
 "metadata": {
  "kernelspec": {
   "display_name": "Python 3 (ipykernel)",
   "language": "python",
   "name": "python3"
  },
  "language_info": {
   "codemirror_mode": {
    "name": "ipython",
    "version": 3
   },
   "file_extension": ".py",
   "mimetype": "text/x-python",
   "name": "python",
   "nbconvert_exporter": "python",
   "pygments_lexer": "ipython3",
   "version": "3.9.7"
  }
 },
 "nbformat": 4,
 "nbformat_minor": 5
}
