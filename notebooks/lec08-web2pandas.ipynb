{
 "cells": [
  {
   "cell_type": "code",
   "execution_count": 10,
   "id": "rocky-divide",
   "metadata": {},
   "outputs": [],
   "source": [
    "# Getting a simple table from the web\n",
    "import requests as req\n",
    "from bs4 import BeautifulSoup\n",
    "import pandas as pd"
   ]
  },
  {
   "cell_type": "code",
   "execution_count": 12,
   "id": "hybrid-mattress",
   "metadata": {},
   "outputs": [
    {
     "data": {
      "text/plain": [
       "<Response [200]>"
      ]
     },
     "execution_count": 12,
     "metadata": {},
     "output_type": "execute_result"
    }
   ],
   "source": [
    "web = req.get('http://cmsc320.github.io')\n",
    "web"
   ]
  },
  {
   "cell_type": "code",
   "execution_count": 19,
   "id": "opposite-centre",
   "metadata": {},
   "outputs": [],
   "source": [
    "all_frames = pd.read_csv('/file/data.csv')"
   ]
  },
  {
   "cell_type": "code",
   "execution_count": 22,
   "id": "substantial-submission",
   "metadata": {},
   "outputs": [
    {
     "data": {
      "text/html": [
       "<div>\n",
       "<style scoped>\n",
       "    .dataframe tbody tr th:only-of-type {\n",
       "        vertical-align: middle;\n",
       "    }\n",
       "\n",
       "    .dataframe tbody tr th {\n",
       "        vertical-align: top;\n",
       "    }\n",
       "\n",
       "    .dataframe thead th {\n",
       "        text-align: right;\n",
       "    }\n",
       "</style>\n",
       "<table border=\"1\" class=\"dataframe\">\n",
       "  <thead>\n",
       "    <tr style=\"text-align: right;\">\n",
       "      <th></th>\n",
       "      <th>#</th>\n",
       "      <th>Description</th>\n",
       "      <th>Date Released</th>\n",
       "      <th>Date Due</th>\n",
       "      <th>Project Link</th>\n",
       "    </tr>\n",
       "  </thead>\n",
       "  <tbody>\n",
       "    <tr>\n",
       "      <th>0</th>\n",
       "      <td>0</td>\n",
       "      <td>Setting Things Up</td>\n",
       "      <td>January 27</td>\n",
       "      <td>Febuary 3</td>\n",
       "      <td>link</td>\n",
       "    </tr>\n",
       "    <tr>\n",
       "      <th>1</th>\n",
       "      <td>1</td>\n",
       "      <td>Solar Power</td>\n",
       "      <td>Feb 11</td>\n",
       "      <td>March 4</td>\n",
       "      <td>link</td>\n",
       "    </tr>\n",
       "  </tbody>\n",
       "</table>\n",
       "</div>"
      ],
      "text/plain": [
       "   #        Description Date Released   Date Due Project Link\n",
       "0  0  Setting Things Up    January 27  Febuary 3         link\n",
       "1  1        Solar Power        Feb 11    March 4         link"
      ]
     },
     "execution_count": 22,
     "metadata": {},
     "output_type": "execute_result"
    }
   ],
   "source": [
    "all_frames[2]"
   ]
  },
  {
   "cell_type": "code",
   "execution_count": null,
   "id": "hidden-thunder",
   "metadata": {},
   "outputs": [],
   "source": [
    " "
   ]
  }
 ],
 "metadata": {
  "kernelspec": {
   "display_name": "Python 3",
   "language": "python",
   "name": "python3"
  },
  "language_info": {
   "codemirror_mode": {
    "name": "ipython",
    "version": 3
   },
   "file_extension": ".py",
   "mimetype": "text/x-python",
   "name": "python",
   "nbconvert_exporter": "python",
   "pygments_lexer": "ipython3",
   "version": "3.8.6"
  }
 },
 "nbformat": 4,
 "nbformat_minor": 5
}
