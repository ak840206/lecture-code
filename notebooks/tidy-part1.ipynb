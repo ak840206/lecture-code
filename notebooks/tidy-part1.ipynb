{
 "cells": [
  {
   "cell_type": "code",
   "execution_count": 1,
   "id": "working-membership",
   "metadata": {},
   "outputs": [],
   "source": [
    "import pandas as pd\n",
    "import datetime\n",
    "from os import listdir\n",
    "from os.path import isfile, join"
   ]
  },
  {
   "cell_type": "markdown",
   "id": "residential-offer",
   "metadata": {},
   "source": [
    "Introduction\n",
    "===\n",
    "\n",
    "Let's create a table that we might use in a report, recording the heights of our TV-highschool sports teams:\n",
    "\n",
    "`columns` let's give labels to our data as we create the DataFrame"
   ]
  },
  {
   "cell_type": "code",
   "execution_count": 2,
   "id": "thick-dairy",
   "metadata": {},
   "outputs": [],
   "source": [
    "df = pd.DataFrame([[\"Basketball\", 9,15],[\"Soccer\",12,12],[\"Horse Racing\", 20,0]],\n",
    "                  columns=[\"Sport\",\"<6ft\",\">6ft\"])"
   ]
  },
  {
   "cell_type": "code",
   "execution_count": 3,
   "id": "earned-compact",
   "metadata": {},
   "outputs": [
    {
     "data": {
      "text/html": [
       "<div>\n",
       "<style scoped>\n",
       "    .dataframe tbody tr th:only-of-type {\n",
       "        vertical-align: middle;\n",
       "    }\n",
       "\n",
       "    .dataframe tbody tr th {\n",
       "        vertical-align: top;\n",
       "    }\n",
       "\n",
       "    .dataframe thead th {\n",
       "        text-align: right;\n",
       "    }\n",
       "</style>\n",
       "<table border=\"1\" class=\"dataframe\">\n",
       "  <thead>\n",
       "    <tr style=\"text-align: right;\">\n",
       "      <th></th>\n",
       "      <th>Sport</th>\n",
       "      <th>&lt;6ft</th>\n",
       "      <th>&gt;6ft</th>\n",
       "    </tr>\n",
       "  </thead>\n",
       "  <tbody>\n",
       "    <tr>\n",
       "      <th>0</th>\n",
       "      <td>Basketball</td>\n",
       "      <td>9</td>\n",
       "      <td>15</td>\n",
       "    </tr>\n",
       "    <tr>\n",
       "      <th>1</th>\n",
       "      <td>Soccer</td>\n",
       "      <td>12</td>\n",
       "      <td>12</td>\n",
       "    </tr>\n",
       "    <tr>\n",
       "      <th>2</th>\n",
       "      <td>Horse Racing</td>\n",
       "      <td>20</td>\n",
       "      <td>0</td>\n",
       "    </tr>\n",
       "  </tbody>\n",
       "</table>\n",
       "</div>"
      ],
      "text/plain": [
       "          Sport  <6ft  >6ft\n",
       "0    Basketball     9    15\n",
       "1        Soccer    12    12\n",
       "2  Horse Racing    20     0"
      ]
     },
     "execution_count": 3,
     "metadata": {},
     "output_type": "execute_result"
    }
   ],
   "source": [
    "df"
   ]
  },
  {
   "cell_type": "markdown",
   "id": "stuffed-double",
   "metadata": {},
   "source": [
    "Melt\n",
    "===\n",
    "\n",
    "The DataFrame above is nice, for _reading_ but not great for _processing_. Ideally we'd want each row to represent a single 'data point', but currently it represents _two_ data points:\n",
    "\n",
    " 1. The number of people shorter than 6ft on a team\n",
    " 2. The number of peole taller than 6ft on a team\n",
    " \n",
    "Let's _melt_ it.\n",
    "\n",
    "\n",
    "Unpivot\n",
    "---\n",
    "\n",
    "'melting' is really \"unpivoting\", but that  may not help much in understanding what's going on.\n",
    "\n",
    "Main idea: Take what was currently a column, and make it a _value_ in a new column.\n",
    "\n",
    "In our case we want to take the column '<6ft' and make that a value, in a new column: 'height'.\n",
    "\n",
    "'>6ft' also becomes a value in this column.\n",
    "\n",
    "\n",
    "What about the old values?\n",
    "---\n",
    "\n",
    "The values that used to be in the columns, now become values in an additional column.\n",
    "\n",
    "Let's look at our table again:"
   ]
  },
  {
   "cell_type": "code",
   "execution_count": 4,
   "id": "expanded-camel",
   "metadata": {},
   "outputs": [
    {
     "data": {
      "text/html": [
       "<div>\n",
       "<style scoped>\n",
       "    .dataframe tbody tr th:only-of-type {\n",
       "        vertical-align: middle;\n",
       "    }\n",
       "\n",
       "    .dataframe tbody tr th {\n",
       "        vertical-align: top;\n",
       "    }\n",
       "\n",
       "    .dataframe thead th {\n",
       "        text-align: right;\n",
       "    }\n",
       "</style>\n",
       "<table border=\"1\" class=\"dataframe\">\n",
       "  <thead>\n",
       "    <tr style=\"text-align: right;\">\n",
       "      <th></th>\n",
       "      <th>Sport</th>\n",
       "      <th>&lt;6ft</th>\n",
       "      <th>&gt;6ft</th>\n",
       "    </tr>\n",
       "  </thead>\n",
       "  <tbody>\n",
       "    <tr>\n",
       "      <th>0</th>\n",
       "      <td>Basketball</td>\n",
       "      <td>9</td>\n",
       "      <td>15</td>\n",
       "    </tr>\n",
       "    <tr>\n",
       "      <th>1</th>\n",
       "      <td>Soccer</td>\n",
       "      <td>12</td>\n",
       "      <td>12</td>\n",
       "    </tr>\n",
       "    <tr>\n",
       "      <th>2</th>\n",
       "      <td>Horse Racing</td>\n",
       "      <td>20</td>\n",
       "      <td>0</td>\n",
       "    </tr>\n",
       "  </tbody>\n",
       "</table>\n",
       "</div>"
      ],
      "text/plain": [
       "          Sport  <6ft  >6ft\n",
       "0    Basketball     9    15\n",
       "1        Soccer    12    12\n",
       "2  Horse Racing    20     0"
      ]
     },
     "execution_count": 4,
     "metadata": {},
     "output_type": "execute_result"
    }
   ],
   "source": [
    "df"
   ]
  },
  {
   "cell_type": "markdown",
   "id": "impressed-kidney",
   "metadata": {},
   "source": [
    "Problem\n",
    "===\n",
    "\n",
    "How do we determine which columns stay and which get 'melted' together?\n",
    "\n",
    "Solution\n",
    "===\n",
    "\n",
    "We tell pandas which column gets to stay, the name of the two new columns:\n",
    "\n",
    " 1. The new column for what used to be the column names: `var_name`\n",
    " 2. The new column for what used to be the column values: `value_name`"
   ]
  },
  {
   "cell_type": "code",
   "execution_count": 7,
   "id": "becoming-profession",
   "metadata": {},
   "outputs": [
    {
     "data": {
      "text/html": [
       "<div>\n",
       "<style scoped>\n",
       "    .dataframe tbody tr th:only-of-type {\n",
       "        vertical-align: middle;\n",
       "    }\n",
       "\n",
       "    .dataframe tbody tr th {\n",
       "        vertical-align: top;\n",
       "    }\n",
       "\n",
       "    .dataframe thead th {\n",
       "        text-align: right;\n",
       "    }\n",
       "</style>\n",
       "<table border=\"1\" class=\"dataframe\">\n",
       "  <thead>\n",
       "    <tr style=\"text-align: right;\">\n",
       "      <th></th>\n",
       "      <th>Sport</th>\n",
       "      <th>height</th>\n",
       "      <th>number of members</th>\n",
       "    </tr>\n",
       "  </thead>\n",
       "  <tbody>\n",
       "    <tr>\n",
       "      <th>0</th>\n",
       "      <td>Basketball</td>\n",
       "      <td>&lt;6ft</td>\n",
       "      <td>9</td>\n",
       "    </tr>\n",
       "    <tr>\n",
       "      <th>1</th>\n",
       "      <td>Soccer</td>\n",
       "      <td>&lt;6ft</td>\n",
       "      <td>12</td>\n",
       "    </tr>\n",
       "    <tr>\n",
       "      <th>2</th>\n",
       "      <td>Horse Racing</td>\n",
       "      <td>&lt;6ft</td>\n",
       "      <td>20</td>\n",
       "    </tr>\n",
       "    <tr>\n",
       "      <th>3</th>\n",
       "      <td>Basketball</td>\n",
       "      <td>&gt;6ft</td>\n",
       "      <td>15</td>\n",
       "    </tr>\n",
       "    <tr>\n",
       "      <th>4</th>\n",
       "      <td>Soccer</td>\n",
       "      <td>&gt;6ft</td>\n",
       "      <td>12</td>\n",
       "    </tr>\n",
       "    <tr>\n",
       "      <th>5</th>\n",
       "      <td>Horse Racing</td>\n",
       "      <td>&gt;6ft</td>\n",
       "      <td>0</td>\n",
       "    </tr>\n",
       "  </tbody>\n",
       "</table>\n",
       "</div>"
      ],
      "text/plain": [
       "          Sport height  number of members\n",
       "0    Basketball   <6ft                  9\n",
       "1        Soccer   <6ft                 12\n",
       "2  Horse Racing   <6ft                 20\n",
       "3    Basketball   >6ft                 15\n",
       "4        Soccer   >6ft                 12\n",
       "5  Horse Racing   >6ft                  0"
      ]
     },
     "execution_count": 7,
     "metadata": {},
     "output_type": "execute_result"
    }
   ],
   "source": [
    "melted = pd.melt(df, id_vars=[\"Sport\"], var_name=\"height\", value_name=\"number of members\")\n",
    "melted"
   ]
  },
  {
   "cell_type": "code",
   "execution_count": 8,
   "id": "supreme-luxury",
   "metadata": {},
   "outputs": [],
   "source": [
    "melted = melted.sort_values(by=[\"Sport\"])"
   ]
  },
  {
   "cell_type": "code",
   "execution_count": 9,
   "id": "descending-theory",
   "metadata": {},
   "outputs": [
    {
     "data": {
      "text/html": [
       "<div>\n",
       "<style scoped>\n",
       "    .dataframe tbody tr th:only-of-type {\n",
       "        vertical-align: middle;\n",
       "    }\n",
       "\n",
       "    .dataframe tbody tr th {\n",
       "        vertical-align: top;\n",
       "    }\n",
       "\n",
       "    .dataframe thead th {\n",
       "        text-align: right;\n",
       "    }\n",
       "</style>\n",
       "<table border=\"1\" class=\"dataframe\">\n",
       "  <thead>\n",
       "    <tr style=\"text-align: right;\">\n",
       "      <th></th>\n",
       "      <th>Sport</th>\n",
       "      <th>height</th>\n",
       "      <th>number of members</th>\n",
       "    </tr>\n",
       "  </thead>\n",
       "  <tbody>\n",
       "    <tr>\n",
       "      <th>0</th>\n",
       "      <td>Basketball</td>\n",
       "      <td>&lt;6ft</td>\n",
       "      <td>9</td>\n",
       "    </tr>\n",
       "    <tr>\n",
       "      <th>3</th>\n",
       "      <td>Basketball</td>\n",
       "      <td>&gt;6ft</td>\n",
       "      <td>15</td>\n",
       "    </tr>\n",
       "    <tr>\n",
       "      <th>2</th>\n",
       "      <td>Horse Racing</td>\n",
       "      <td>&lt;6ft</td>\n",
       "      <td>20</td>\n",
       "    </tr>\n",
       "    <tr>\n",
       "      <th>5</th>\n",
       "      <td>Horse Racing</td>\n",
       "      <td>&gt;6ft</td>\n",
       "      <td>0</td>\n",
       "    </tr>\n",
       "    <tr>\n",
       "      <th>1</th>\n",
       "      <td>Soccer</td>\n",
       "      <td>&lt;6ft</td>\n",
       "      <td>12</td>\n",
       "    </tr>\n",
       "    <tr>\n",
       "      <th>4</th>\n",
       "      <td>Soccer</td>\n",
       "      <td>&gt;6ft</td>\n",
       "      <td>12</td>\n",
       "    </tr>\n",
       "  </tbody>\n",
       "</table>\n",
       "</div>"
      ],
      "text/plain": [
       "          Sport height  number of members\n",
       "0    Basketball   <6ft                  9\n",
       "3    Basketball   >6ft                 15\n",
       "2  Horse Racing   <6ft                 20\n",
       "5  Horse Racing   >6ft                  0\n",
       "1        Soccer   <6ft                 12\n",
       "4        Soccer   >6ft                 12"
      ]
     },
     "execution_count": 9,
     "metadata": {},
     "output_type": "execute_result"
    }
   ],
   "source": [
    "melted"
   ]
  },
  {
   "cell_type": "code",
   "execution_count": null,
   "id": "royal-absence",
   "metadata": {},
   "outputs": [],
   "source": []
  }
 ],
 "metadata": {
  "kernelspec": {
   "display_name": "Python 3",
   "language": "python",
   "name": "python3"
  },
  "language_info": {
   "codemirror_mode": {
    "name": "ipython",
    "version": 3
   },
   "file_extension": ".py",
   "mimetype": "text/x-python",
   "name": "python",
   "nbconvert_exporter": "python",
   "pygments_lexer": "ipython3",
   "version": "3.8.6"
  }
 },
 "nbformat": 4,
 "nbformat_minor": 5
}
