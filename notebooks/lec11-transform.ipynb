{
 "cells": [
  {
   "cell_type": "code",
   "execution_count": null,
   "id": "hairy-separation",
   "metadata": {},
   "outputs": [],
   "source": [
    "import pandas as pd\n",
    "import matplotlib.pyplot as plt\n",
    "import numpy as np"
   ]
  },
  {
   "cell_type": "code",
   "execution_count": null,
   "id": "separate-cameroon",
   "metadata": {},
   "outputs": [],
   "source": [
    "# This can use a significant amount of memory\n",
    "# (in fact, Pandas refused until I assured it that I have a lot of RAM)\n",
    "# `flights.csv` taken from https://www.kaggle.com/usdot/flight-delays?select=flights.csv\n",
    "df = pd.read_csv(\"flights.csv\", low_memory=False)\n",
    "\n",
    "# Create a boolean series\n",
    "filter = df[\"MONTH\"]==11\n",
    "\n",
    "# Filter the DataFrame based on the boolean column\n",
    "df.where(filter, inplace=True)"
   ]
  },
  {
   "cell_type": "code",
   "execution_count": null,
   "id": "statutory-nebraska",
   "metadata": {},
   "outputs": [],
   "source": [
    "df.where(filter, inplace=True)\n",
    "df.dropna(how='all', inplace=True)\n",
    "df"
   ]
  },
  {
   "cell_type": "code",
   "execution_count": null,
   "id": "advance-wallet",
   "metadata": {},
   "outputs": [],
   "source": [
    "iter_data = pd.read_csv('flights.csv', iterator=True, chunksize=1000)\n",
    "iter_df = pd.concat([chunk[chunk['MONTH'] == 11] for chunk in iter_data])"
   ]
  },
  {
   "cell_type": "code",
   "execution_count": null,
   "id": "monetary-harrison",
   "metadata": {},
   "outputs": [],
   "source": [
    "# Function defining our transform\n",
    "def transform(x):\n",
    "    return np.sign(x) * np.log2(np.absolute(x) + 1)"
   ]
  },
  {
   "cell_type": "code",
   "execution_count": null,
   "id": "incorporate-investing",
   "metadata": {},
   "outputs": [],
   "source": [
    "fig, axes = plt.subplots(nrows=2, ncols=1)"
   ]
  },
  {
   "cell_type": "code",
   "execution_count": null,
   "id": "verified-provincial",
   "metadata": {},
   "outputs": [],
   "source": [
    "iter_df.hist(column=\"ARRIVAL_DELAY\", bins=100, ax=axes[0])"
   ]
  },
  {
   "cell_type": "code",
   "execution_count": null,
   "id": "collectible-active",
   "metadata": {},
   "outputs": [],
   "source": [
    "transformed = iter_df[\"ARRIVAL_DELAY\"].transform(transform)"
   ]
  },
  {
   "cell_type": "code",
   "execution_count": null,
   "id": "crazy-messenger",
   "metadata": {},
   "outputs": [],
   "source": [
    "# The figure parameter is undocumented!!!!!\n",
    "\n",
    "transformed.hist(bins=100, ax=axes[1], figure=fig)"
   ]
  },
  {
   "cell_type": "code",
   "execution_count": null,
   "id": "black-chicken",
   "metadata": {},
   "outputs": [],
   "source": [
    "fig"
   ]
  }
 ],
 "metadata": {
  "kernelspec": {
   "display_name": "Python 3",
   "language": "python",
   "name": "python3"
  },
  "language_info": {
   "codemirror_mode": {
    "name": "ipython",
    "version": 3
   },
   "file_extension": ".py",
   "mimetype": "text/x-python",
   "name": "python",
   "nbconvert_exporter": "python",
   "pygments_lexer": "ipython3",
   "version": "3.8.6"
  }
 },
 "nbformat": 4,
 "nbformat_minor": 5
}
