{
 "cells": [
  {
   "cell_type": "code",
   "execution_count": null,
   "id": "olive-choir",
   "metadata": {},
   "outputs": [],
   "source": [
    "import numpy as np\n",
    "import matplotlib.pyplot as plt\n",
    "import math\n",
    "\n",
    "from typing import Tuple\n",
    "import typing # So that I can write type signatures\n",
    "\n",
    "# note: a significant portion of this code was\n",
    "# adapted and/or taken from the textbook \"Data Science From Scratch\",\n",
    "# which uses the MIT license. All expository text is original."
   ]
  },
  {
   "cell_type": "markdown",
   "id": "bound-positive",
   "metadata": {},
   "source": [
    "# Probability Density Functions\n",
    "\n",
    "PDFs are one way to reason about a distribution. For discrete distributions,\n",
    "it's basically what you'd expect. Since we know that only certain _discrete_\n",
    "values are possible, a PDF isn't really interesting, it's just the probability\n",
    "of each outcome.\n",
    "\n",
    "## Probabilities for a (fair!) Coin and Die"
   ]
  },
  {
   "cell_type": "code",
   "execution_count": null,
   "id": "cardiovascular-peripheral",
   "metadata": {},
   "outputs": [],
   "source": [
    "# we've _defined_ it to be a fair coin, so it doesn't matter which\n",
    "# result we ask about, the probability is always 0.5\n",
    "def coin_prob(c: bool) -> float:\n",
    "    return 0.5\n",
    "\n",
    "# for a die, we only have to do bounds checking, otherwise\n",
    "# the probability is always 1/6\n",
    "def die_prob(d: int) -> float:\n",
    "    return 1/6 if 1 <= d <= 6 else 0"
   ]
  },
  {
   "cell_type": "markdown",
   "id": "resistant-effort",
   "metadata": {},
   "source": [
    "## PDFs for continuous variables\n",
    "\n",
    "Since continuous random variables can be realized as one from an infinite\n",
    "number of possibilities, we can't do what we did with the die above\n",
    "and divide be the total number of possibilities, everything would\n",
    "be zero :(\n",
    "\n",
    "Instead we have to reason over an _interval_. Take the uniform\n",
    "distribution over the interval of $[0,1]$. What's the probability\n",
    "that some value occurs within that interval? That's what a PDF\n",
    "is for:"
   ]
  },
  {
   "cell_type": "code",
   "execution_count": null,
   "id": "editorial-swiss",
   "metadata": {},
   "outputs": [],
   "source": [
    "def uniform_pdf(x: float) -> float:\n",
    "    return 1 if 0 <= x < 1 else 0"
   ]
  },
  {
   "cell_type": "markdown",
   "id": "scenic-circulation",
   "metadata": {},
   "source": [
    "This is not very interesting at all, is it? If the value we care about is\n",
    "within the interval, it gets a probability of 1, and if it's not we get 0.\n",
    "It makes sense but isn't particularly useful.\n",
    "\n",
    "### Exercise\n",
    "\n",
    "What would the `uniform_pdf` function look like if it let you specify which\n",
    "interval you care about? it would need to have the following declation:\n",
    "\n",
    "`def uniform_pdf_interval(lo: float, hi: float) -> float`\n",
    "\n",
    "You would expect the following to be true:\n",
    "\n",
    "```{python}\n",
    "uniform_pdf_interval(0.2, 0.3) == 0.1\n",
    "```\n",
    "\n",
    "Be warned, there are some interesting corner cases!\n",
    "\n",
    "## PDF for the normal distribution\n",
    "\n",
    "As mentioned in the lecture, the Normal Distribution is defined\n",
    "by mu (the mean) and sigma (the standard deviation). So anything\n",
    "that computers over the PDF will need to be parameterized by\n",
    "those two values.\n",
    "\n",
    "Unfortunately the math behind the PDF for the normal distribution\n",
    "is non-obvious, and the reasoning behind why it works is beyond\n",
    "the scope of this cour\n",
    "se. So while I have to have the code here,\n",
    "don't worry if it's not clear _why_ this defines the PDF for\n",
    "the normal distribution."
   ]
  },
  {
   "cell_type": "code",
   "execution_count": null,
   "id": "breathing-hunger",
   "metadata": {},
   "outputs": [],
   "source": [
    "SQRT_TWO_PI = np.sqrt(2 * np.pi)\n",
    "\n",
    "# We take this straight from a statistics book\n",
    "# this is an approximation of the PDF, it is missing weighting factor\n",
    "def normal_pdf(x: float, mu: float = 0, sigma: float = 1) -> float:\n",
    "    return (np.exp(-(x-mu) ** 2 / 2 / sigma ** 2) / (SQRT_TWO_PI * sigma))"
   ]
  },
  {
   "cell_type": "markdown",
   "id": "overall-steal",
   "metadata": {},
   "source": [
    "Now that we have the code to compute the values of the PDF for the\n",
    "normal distribution, we can play around and start forming an intuition.\n",
    "\n",
    "We can take advantage of the default values we set above and just see what\n",
    "we get with a range of inputs:"
   ]
  },
  {
   "cell_type": "code",
   "execution_count": null,
   "id": "hungry-joyce",
   "metadata": {},
   "outputs": [],
   "source": [
    "[normal_pdf(x) for x in range(-5,5)]"
   ]
  },
  {
   "cell_type": "markdown",
   "id": "naked-samuel",
   "metadata": {},
   "source": [
    "Okay, so already we can see a pattern: The close to the mean we get, the more likely we would\n",
    "see our random variable at that value.\n",
    "\n",
    "Let's take this a step further and start plotting things in earnest. I've defined a few different\n",
    "normal distributuions, and we plot each of the over 100 values between -5 and 5:"
   ]
  },
  {
   "cell_type": "code",
   "execution_count": null,
   "id": "appropriate-parks",
   "metadata": {},
   "outputs": [],
   "source": [
    "# Let's plot a bunch\n",
    "xs = [x / 10.0 for x in range(-50,50)]\n",
    "\n",
    "# Having a normal one\n",
    "plt.plot(xs, [normal_pdf(x,sigma=1) for x in xs],'-',label='mu=0,sigma=1')\n",
    "\n",
    "# Same mean, but more concentrated\n",
    "plt.plot(xs, [normal_pdf(x,sigma=0.5) for x in xs],'--',label='mu=0,sigma=0.5')\n",
    "\n",
    "# Different mean\n",
    "plt.plot(xs, [normal_pdf(x,mu=1.5,sigma=1) for x in xs],':',label='mu=1.5,sigma=1')\n",
    "\n",
    "# a wide boi\n",
    "plt.plot(xs, [normal_pdf(x,sigma=2) for x in xs],'-',label='mu=0,sigma=2')\n",
    "\n",
    "plt.legend()\n",
    "plt.title(\"A menagerie of normal distributions\")"
   ]
  },
  {
   "cell_type": "markdown",
   "id": "formed-spanish",
   "metadata": {},
   "source": [
    "This is good, and useful, but not universally useful, which is why\n",
    "you often see _cumulative distribution functions_ alongside PDFs\n",
    "\n",
    "\n",
    "# Cumulative Distribution Functions\n",
    "\n",
    "If PDFs help us answer \"what is the probability of event X occuring?\"\n",
    "CDFs help us answer \"what is the probability of X _or lower_ occuring?\"\n",
    "\n",
    "The easiest way to see the difference with with dice:"
   ]
  },
  {
   "cell_type": "code",
   "execution_count": null,
   "id": "subtle-synthesis",
   "metadata": {},
   "outputs": [],
   "source": [
    "def die_cdf(c: int) -> float:\n",
    "    return (c/6) if 1 <= c <= 6 else 0"
   ]
  },
  {
   "cell_type": "markdown",
   "id": "pursuant-absorption",
   "metadata": {},
   "source": [
    "We can look at the probablities and the cdfs side by side for each possible\n",
    "roll of a die:"
   ]
  },
  {
   "cell_type": "code",
   "execution_count": null,
   "id": "composed-fishing",
   "metadata": {
    "scrolled": true
   },
   "outputs": [],
   "source": [
    "[(\"Probability of c\", \"CDF of c\")] + [(die_prob(c), die_cdf(c)) for c in range(1,7)]"
   ]
  },
  {
   "cell_type": "markdown",
   "id": "surprising-craft",
   "metadata": {},
   "source": [
    "As you can see the probability doesn't change, it's uniform after all,\n",
    "but when the question becomes \"What's the probability of a die roll of\n",
    "C _or lower_, the probability accumulates, as you'd expect.\n",
    "\n",
    "### Exercise\n",
    "\n",
    "Plot the probability of each roll along with the CDF of each roll as two\n",
    "lines on a single plot.\n",
    "\n",
    "## CDFs for continuous distributions\n",
    "\n",
    "Much like with the PDF, the CDF of the uniform distribution over $[0,1]$ isn't deeply interesting,\n",
    "but it is _more_ interesting than the PDF."
   ]
  },
  {
   "cell_type": "code",
   "execution_count": null,
   "id": "signed-explanation",
   "metadata": {},
   "outputs": [],
   "source": [
    "def uniform_cdf(x: float) -> float:\n",
    "    if x < 0:   return 0\n",
    "    elif x < 1: return x\n",
    "    else:       return 1"
   ]
  },
  {
   "cell_type": "markdown",
   "id": "judicial-korea",
   "metadata": {},
   "source": [
    "As with the PDF, we're going to trust our statistician colleagues when they\n",
    "say that the following is how you computer the CDF for the normal distribution.\n",
    "\n",
    "As with the PDF, the formula itself is not the point here, but the intuition\n",
    "we're gaining for the 'shape' of the CDF as we tweak the various parameters.\n",
    "\n",
    "We plot the same normal distributions as above:"
   ]
  },
  {
   "cell_type": "code",
   "execution_count": null,
   "id": "productive-blogger",
   "metadata": {},
   "outputs": [],
   "source": [
    "def normal_cdf(x: float, mu: float = 0, sigma: float = 1) -> float:\n",
    "    return (1 + math.erf((x - mu) / np.sqrt(2) / sigma)) / 2\n",
    "\n",
    "xs = [x / 10.0 for x in range(-50, 50)]\n",
    "plt.plot(xs,[normal_cdf(x,sigma=1) for x in xs],'-',label='mu=0,sigma=1')\n",
    "plt.plot(xs,[normal_cdf(x,sigma=0.5) for x in xs],'--',label='mu=0,sigma=0.5')\n",
    "plt.plot(xs,[normal_cdf(x,mu=1.5,sigma=1) for x in xs],':',label='mu=1.5,sigma=1')\n",
    "plt.plot(xs,[normal_cdf(x,sigma=2) for x in xs],'-.',label='mu=0,sigma=2')\n",
    "plt.legend(loc=4) # bottom right\n",
    "plt.title(\"Various Normal cdfs\")"
   ]
  },
  {
   "cell_type": "markdown",
   "id": "concerned-tumor",
   "metadata": {},
   "source": [
    "### Exercise\n",
    "\n",
    "Plot the two things side by side as two plots in a single figure."
   ]
  },
  {
   "cell_type": "markdown",
   "id": "raising-distinction",
   "metadata": {},
   "source": [
    "# Coin Test\n",
    "\n",
    "Now we have most of the necessary vocabulary to discuss a simple hypothesis test.\n",
    "\n",
    "Given a hypothesis, how can we try and figure out of it's 'true' (for some definition of true)?\n",
    "\n",
    "Here's our hypothesis: The coin is fair.\n",
    "\n",
    "This means that our Null Hypothesis is: The coin is not fair.\n",
    "\n",
    "First, ignore the definition of the inverse CDF, it's basically a binary search over the\n",
    "normal CDF to find the value we care about."
   ]
  },
  {
   "cell_type": "code",
   "execution_count": null,
   "id": "empty-attention",
   "metadata": {},
   "outputs": [],
   "source": [
    "# IGNORE THIS ONE\n",
    "def inverse_normal_cdf(p: float, mu: float = 0, sigma: float = 1, tolerance: float = 0.00001) -> float:\n",
    "\n",
    "    # if not standard, compute standard and rescale\n",
    "    if mu != 0 or sigma != 1:\n",
    "        return mu + sigma * inverse_normal_cdf(p, tolerance=tolerance)\n",
    "\n",
    "    low_z = -10.0                      # normal_cdf(-10) is (very close to) 0\n",
    "    hi_z  =  10.0                      # normal_cdf(10)  is (very close to) 1\n",
    "    while hi_z - low_z > tolerance:\n",
    "        mid_z = (low_z + hi_z) / 2     # Consider the midpoint\n",
    "        mid_p = normal_cdf(mid_z)      # and the cdf's value there\n",
    "        if mid_p < p:\n",
    "            low_z = mid_z              # Midpoint too low, search above it\n",
    "        else:\n",
    "            hi_z = mid_z               # Midpoint too high, search below it\n",
    "\n",
    "    return mid_z\n"
   ]
  },
  {
   "cell_type": "markdown",
   "id": "considerable-clear",
   "metadata": {},
   "source": [
    "### Bound to be fun\n",
    "\n",
    "Now let's get back to the hypothesis test. Because the coin flipping forms a Binomial Distribution, we can approximate it using the Normal Distribution. So represent the distribution that represents $n$ flips of a fair coin ($p = 0.5$), we need a mu and a sigma. Luckily the statisticians gave us a formula for that as well, though this one is a bit easier to reason through (you should try it!)\n",
    "\n",
    "$\\mu = np\\\\\n",
    "  \\sigma = \\sqrt{np(1 - p)}$\n",
    "  \n",
    "\n"
   ]
  },
  {
   "cell_type": "code",
   "execution_count": null,
   "id": "surprising-polish",
   "metadata": {},
   "outputs": [],
   "source": [
    "# The literal translation of the formulas above, just doing them in\n",
    "# a single function and return a pair with the results\n",
    "def norm_approx(n: int, p: float) -> Tuple[float, float]:\n",
    "    mu = p * n\n",
    "    sigma = np.sqrt(p * (1 - p) * n)\n",
    "    return mu, sigma"
   ]
  },
  {
   "cell_type": "markdown",
   "id": "strong-multimedia",
   "metadata": {},
   "source": [
    "Be definition the CDF is asking about the probability of an event of some value _or lower_ occuring,\n",
    "but it seems reasonable to ask about the probability of an event of some value _or higher_ occuring. Luckily, that's pretty easy, it's whatever probability is 'left over':"
   ]
  },
  {
   "cell_type": "code",
   "execution_count": null,
   "id": "ordinary-percentage",
   "metadata": {},
   "outputs": [],
   "source": [
    "def norm_above(lo: float, mu: float = 0, sigma: float = 1) -> float:\n",
    "    return 1 - normal_cdf(lo, mu, sigma)"
   ]
  },
  {
   "cell_type": "markdown",
   "id": "marine-horizon",
   "metadata": {},
   "source": [
    "It also seems sensible to ask about the probability of some value _between_ to values occuring."
   ]
  },
  {
   "cell_type": "code",
   "execution_count": null,
   "id": "patient-rochester",
   "metadata": {},
   "outputs": [],
   "source": [
    "def norm_between(lo: float, hi: float, mu: float = 0, sigma: float = 1) -> float:\n",
    "    return normal_cdf(hi, mu, sigma) - normal_cdf(lo, mu, sigma)\n",
    "\n",
    "def norm_outside(lo: float, hi: float, mu: float = 0, sigma: float = 1) -> float:\n",
    "    return 1 - norm_between(lo, hi, mu, sigma)"
   ]
  },
  {
   "cell_type": "markdown",
   "id": "missing-production",
   "metadata": {},
   "source": [
    "The functions above let us ask about the _probability_ of something occuring with\n",
    "some range (or above, or below). However, it can also be useful to ask \"what's the\n",
    "range where 90% of occurrences happen. (To help you intuit what this is useful,\n",
    "imagine if someone asked you to circle an area of the globe where 50% of the world\n",
    "population lives, then 90%, then 95%, are those circles getting bigger or smaller?)\n",
    "\n",
    "We won't do that all in one go, first we'll do each bound separately:"
   ]
  },
  {
   "cell_type": "code",
   "execution_count": null,
   "id": "human-opera",
   "metadata": {},
   "outputs": [],
   "source": [
    "def norm_upper_bound(probability: float, mu: float = 0, sigma: float = 1) -> float:\n",
    "    return inverse_normal_cdf(probability, mu, sigma)\n",
    "\n",
    "def norm_lower_bound(probability: float, mu: float = 0, sigma: float = 1) -> float:\n",
    "    return inverse_normal_cdf(1 - probability, mu, sigma)"
   ]
  },
  {
   "cell_type": "markdown",
   "id": "signal-massage",
   "metadata": {},
   "source": [
    "Now we can take the upper and lower bounds together to form a two-sided bound.\n",
    "The only complication is that is we don't want to 'double count' each side of\n",
    "distribution, so we divide up the probability into 2 and as for the lower bound\n",
    "of half and the upper bound for half.\n",
    "\n",
    "_This only works because the normal distribution is symmetrical!_"
   ]
  },
  {
   "cell_type": "code",
   "execution_count": null,
   "id": "legislative-stuff",
   "metadata": {},
   "outputs": [],
   "source": [
    "def norm_two_sided_bounds(probability: float, mu: float = 0, sigma: float = 1) -> Tuple[float, float]:\n",
    "    tail_probability = (1 - probability) / 2\n",
    "\n",
    "    # upper bound should have tail_probability above it\n",
    "    upper_bound = norm_lower_bound(tail_probability, mu, sigma)\n",
    "\n",
    "    # lower bound should have tail_probability below it\n",
    "    lower_bound = norm_upper_bound(tail_probability, mu, sigma)\n",
    "\n",
    "    return lower_bound, upper_bound"
   ]
  },
  {
   "cell_type": "markdown",
   "id": "protecting-shock",
   "metadata": {},
   "source": [
    "Now let's use the functionality we just made.\n",
    "\n",
    "We want the distribution that represents 1000 coin flips, where each\n",
    "flip has a probability of 0.5 for success. The assertions are just\n",
    "there to make sure everything was implemented correctly (since in this\n",
    "case we _know_ what $\\mu$ and $\\sigma$ should be)."
   ]
  },
  {
   "cell_type": "code",
   "execution_count": null,
   "id": "valued-worth",
   "metadata": {},
   "outputs": [],
   "source": [
    "mu_0, sigma_0 = norm_approx(1000, 0.5)\n",
    "\n",
    "# Remove these assertions (or comment them out) if you're going to\n",
    "# play around with the values provided to `norm_approx` above.\n",
    "assert mu_0 == 500\n",
    "assert 15.8 < sigma_0 < 15.9"
   ]
  },
  {
   "cell_type": "markdown",
   "id": "incorrect-degree",
   "metadata": {},
   "source": [
    "No we get to test our hypothesis! Unfortunately, we have to pick a certain level of certainty that we're comfortable with. So since we have to pick a value, let's define it:\n",
    "\n",
    "> What is the likelihood that we _accidentally_ reject $H_0$, assuming $H_0$ is true?\n",
    "\n",
    "This is known as a test's _significance_. Traditionally statisticians and social scientists\n",
    "(and now data scientists) have chosen 5% as a reasonable value for significance.\n",
    "There is a lot of debate related to this choice (and it's use in a related measure: p-value).\n",
    "So while there is nothing inherently wrong with 5%, (or 6%, or 4%...) it's worth taking\n",
    "a moment to think about _your_ desired significance when performing a hypothesis test.\n",
    "\n",
    "All that out of that way, we'll use 5% :D"
   ]
  },
  {
   "cell_type": "code",
   "execution_count": null,
   "id": "religious-midnight",
   "metadata": {},
   "outputs": [],
   "source": [
    "sig = 0.05\n",
    "\n",
    "lower_bound, upper_bound = norm_two_sided_bounds((1 - sig), mu_0, sigma_0)"
   ]
  },
  {
   "cell_type": "code",
   "execution_count": null,
   "id": "superb-drink",
   "metadata": {},
   "outputs": [],
   "source": [
    "(lower_bound, upper_bound)"
   ]
  },
  {
   "cell_type": "markdown",
   "id": "korean-cross",
   "metadata": {},
   "source": [
    "Numbers are great, of course, but let's plot the results of our test with different values\n",
    "of significance. It might be worth conemplating what this plot shows you:"
   ]
  },
  {
   "cell_type": "code",
   "execution_count": null,
   "id": "transparent-malawi",
   "metadata": {},
   "outputs": [],
   "source": [
    "sigs = [0.15, 0.10, 0.05, 0.02]\n",
    "\n",
    "for i,sig in enumerate(sigs):\n",
    "    l,u = norm_two_sided_bounds((1 - sig), mu_0, sigma_0)\n",
    "    plt.plot((l,u),(i,i),'ro-',color='blue')\n",
    "    \n",
    "\n",
    "plt.yticks(range(len(sigs)),map(str,sigs))\n",
    "    \n",
    "plt.show()"
   ]
  },
  {
   "cell_type": "code",
   "execution_count": null,
   "id": "parallel-relevance",
   "metadata": {},
   "outputs": [],
   "source": []
  }
 ],
 "metadata": {
  "kernelspec": {
   "display_name": "Python 3",
   "language": "python",
   "name": "python3"
  },
  "language_info": {
   "codemirror_mode": {
    "name": "ipython",
    "version": 3
   },
   "file_extension": ".py",
   "mimetype": "text/x-python",
   "name": "python",
   "nbconvert_exporter": "python",
   "pygments_lexer": "ipython3",
   "version": "3.8.6"
  }
 },
 "nbformat": 4,
 "nbformat_minor": 5
}
