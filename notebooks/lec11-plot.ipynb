{
 "cells": [
  {
   "cell_type": "code",
   "execution_count": null,
   "id": "prompt-charity",
   "metadata": {},
   "outputs": [],
   "source": [
    "import pandas as pd\n",
    "import matplotlib.pyplot as plt\n",
    "import numpy as np\n",
    "\n",
    "# Matplotlib docs: https://matplotlib.org/stable/index.html\n",
    "# Official Beginner's guide: https://matplotlib.org/stable/tutorials/introductory/usage.html#sphx-glr-tutorials-introductory-usage-py"
   ]
  },
  {
   "cell_type": "code",
   "execution_count": null,
   "id": "congressional-milan",
   "metadata": {},
   "outputs": [],
   "source": [
    "mood = pd.Series(np.random.randn(1000), index=pd.date_range('1/12/1999', periods=1000))\n",
    "mood = mood.cumsum()"
   ]
  },
  {
   "cell_type": "code",
   "execution_count": null,
   "id": "valid-combat",
   "metadata": {},
   "outputs": [],
   "source": [
    "mood.plot()"
   ]
  },
  {
   "cell_type": "code",
   "execution_count": null,
   "id": "speaking-consensus",
   "metadata": {},
   "outputs": [],
   "source": [
    "# Line styles are not the matplotlib styles!! Infuriating (see the pandas docs instead)\n",
    "# One to try: 'k--', 'p', 'g', 'g--', \n",
    "plt.figure()\n",
    "mood.plot(style='k--', label='Big Mood')\n",
    "plt.legend()"
   ]
  },
  {
   "cell_type": "code",
   "execution_count": null,
   "id": "fossil-motel",
   "metadata": {},
   "outputs": [],
   "source": [
    "# You can call plot multiple columns at once!\n",
    "cols=['Jazzers', 'Rockers', 'Hip-hop heads', 'Disney Fans']\n",
    "moods = pd.DataFrame(np.random.randn(1000,4), index=mood.index, columns=cols)\n",
    "moods = moods.cumsum()\n",
    "\n",
    "plt.figure()\n",
    "moods.plot()\n",
    "plt.legend(loc='upper left')"
   ]
  },
  {
   "cell_type": "code",
   "execution_count": null,
   "id": "twelve-howard",
   "metadata": {},
   "outputs": [],
   "source": [
    "moods.plot(legend=False)"
   ]
  },
  {
   "cell_type": "code",
   "execution_count": null,
   "id": "earlier-asbestos",
   "metadata": {},
   "outputs": [],
   "source": [
    "moods.plot(subplots=True)c"
   ]
  },
  {
   "cell_type": "code",
   "execution_count": null,
   "id": "smoking-share",
   "metadata": {},
   "outputs": [],
   "source": [
    "new_mood = pd.Series(np.random.randn(1000), index=pd.date_range('1/24/2011', periods=1000))\n",
    "new_mood = np.exp(new_mood.cumsum())\n",
    "new_mood.plot()"
   ]
  },
  {
   "cell_type": "code",
   "execution_count": null,
   "id": "permanent-marketplace",
   "metadata": {},
   "outputs": [],
   "source": [
    "new_mood.plot(logy=True)"
   ]
  },
  {
   "cell_type": "code",
   "execution_count": null,
   "id": "metric-waste",
   "metadata": {},
   "outputs": [],
   "source": []
  }
 ],
 "metadata": {
  "kernelspec": {
   "display_name": "Python 3",
   "language": "python",
   "name": "python3"
  },
  "language_info": {
   "codemirror_mode": {
    "name": "ipython",
    "version": 3
   },
   "file_extension": ".py",
   "mimetype": "text/x-python",
   "name": "python",
   "nbconvert_exporter": "python",
   "pygments_lexer": "ipython3",
   "version": "3.8.6"
  }
 },
 "nbformat": 4,
 "nbformat_minor": 5
}
