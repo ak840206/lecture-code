{
 "cells": [
  {
   "cell_type": "code",
   "execution_count": 1,
   "id": "working-broadcast",
   "metadata": {},
   "outputs": [],
   "source": [
    "import pandas as pd\n",
    "import numpy as np\n",
    "import matplotlib.pyplot as plt"
   ]
  },
  {
   "cell_type": "markdown",
   "id": "relative-afghanistan",
   "metadata": {},
   "source": [
    "The Data\n",
    "---\n",
    "\n",
    "We've got some data here. The data is a record of what the average number of friends for two groups ('East Coast' vs. 'West Coast'). There is also some other data about the members of the data set: Their education level.\n",
    "\n",
    "The columns in question are: Coast | Degree | Members | Avg. # Friends\n",
    "\n",
    "I purposefully made it a CSV so that we aren't tempted to 'study' the data just yet. Assume it's a gigantic amount of data where looking at it by hand would be infeasible."
   ]
  },
  {
   "cell_type": "code",
   "execution_count": 2,
   "id": "wrapped-statement",
   "metadata": {},
   "outputs": [],
   "source": [
    "df = pd.read_csv('coastal_friends.csv')"
   ]
  },
  {
   "cell_type": "markdown",
   "id": "accessible-highway",
   "metadata": {},
   "source": [
    "The Analysis\n",
    "---\n",
    "\n",
    "Now we're going to analyze the data.\n",
    "\n",
    "We want to see which coast is the friendliest. What we want is a value for the avg. number of friends _for each coast_: West vs. East.\n",
    "\n",
    "Now, because we paid attention in Data Science class, we know that we shouldn't use the naive mean for the number of friends. The East coast may not have an equal number of people with each degree, for example. So first we write a function that will computer the weighted average, where the weight is based on proportion of people with each degree.\n",
    "\n",
    "The function is written in terms of some 'group', where we want that average for that group. So we take the `Members` column and use that as our weighting for the average:"
   ]
  },
  {
   "cell_type": "code",
   "execution_count": 3,
   "id": "previous-apparel",
   "metadata": {},
   "outputs": [],
   "source": [
    "def weighted_average(group):\n",
    "    membs = group['Members']\n",
    "    frnds = group['Avg. # Friends']\n",
    "    return np.average(frnds, weights=membs)"
   ]
  },
  {
   "cell_type": "markdown",
   "id": "arranged-aside",
   "metadata": {},
   "source": [
    "The Insight?\n",
    "---\n",
    "\n",
    "Great, go us! We avoided a common mistake of just doing the naive average.\n",
    "\n",
    "Now we perform our actual analysis: We want to group all the rows by which coast they are on. The function `groupby` does exactly this. We also have to tell Pandas _how_ to combine the values of the rows as we group them. For that we use our weighted average that we just defined.\n",
    "\n",
    "We plot this to learn about which coast is friendliest."
   ]
  },
  {
   "cell_type": "code",
   "execution_count": 5,
   "id": "modular-thanks",
   "metadata": {},
   "outputs": [
    {
     "data": {
      "text/plain": [
       "<AxesSubplot:xlabel='Coast'>"
      ]
     },
     "execution_count": 5,
     "metadata": {},
     "output_type": "execute_result"
    },
    {
     "data": {
      "image/png": "[encoded data removed]",
      "text/plain": [
       "<Figure size 432x288 with 1 Axes>"
      ]
     },
     "metadata": {
      "needs_background": "light"
     },
     "output_type": "display_data"
    }
   ],
   "source": [
    "insight = df.groupby('Coast').apply(weighted_average)\n",
    "insight.plot(kind='bar')"
   ]
  },
  {
   "cell_type": "markdown",
   "id": "killing-storage",
   "metadata": {},
   "source": [
    "The Problem\n",
    "---\n",
    "\n",
    "The problem is that whenever you use some sort of summary statistic, like we did here with our weighted average, comparing summary statistics has an implicit assumption: That _all else_ is equal.\n",
    "\n",
    "So when you read the plot above, you shouldn't read it as \"West Coast folks have more friends on average\". You should read it as \"Assuming all else is equal, West Coast folks have more friends on average\".\n",
    "\n",
    "But what if all else _isn't_ equal? Then we might infer the wrong thing!"
   ]
  },
  {
   "cell_type": "code",
   "execution_count": 11,
   "id": "undefined-manchester",
   "metadata": {
    "scrolled": true
   },
   "outputs": [
    {
     "data": {
      "text/html": [
       "<div>\n",
       "<style scoped>\n",
       "    .dataframe tbody tr th:only-of-type {\n",
       "        vertical-align: middle;\n",
       "    }\n",
       "\n",
       "    .dataframe tbody tr th {\n",
       "        vertical-align: top;\n",
       "    }\n",
       "\n",
       "    .dataframe thead th {\n",
       "        text-align: right;\n",
       "    }\n",
       "</style>\n",
       "<table border=\"1\" class=\"dataframe\">\n",
       "  <thead>\n",
       "    <tr style=\"text-align: right;\">\n",
       "      <th></th>\n",
       "      <th>Coast</th>\n",
       "      <th>Degree</th>\n",
       "      <th>Members</th>\n",
       "      <th>Avg. # Friends</th>\n",
       "    </tr>\n",
       "  </thead>\n",
       "  <tbody>\n",
       "    <tr>\n",
       "      <th>0</th>\n",
       "      <td>East Coast</td>\n",
       "      <td>PhD</td>\n",
       "      <td>70</td>\n",
       "      <td>3.2</td>\n",
       "    </tr>\n",
       "    <tr>\n",
       "      <th>1</th>\n",
       "      <td>West Coast</td>\n",
       "      <td>PhD</td>\n",
       "      <td>35</td>\n",
       "      <td>3.1</td>\n",
       "    </tr>\n",
       "    <tr>\n",
       "      <th>2</th>\n",
       "      <td>East Coast</td>\n",
       "      <td>BS</td>\n",
       "      <td>33</td>\n",
       "      <td>13.4</td>\n",
       "    </tr>\n",
       "    <tr>\n",
       "      <th>3</th>\n",
       "      <td>West Coast</td>\n",
       "      <td>BS</td>\n",
       "      <td>66</td>\n",
       "      <td>10.9</td>\n",
       "    </tr>\n",
       "  </tbody>\n",
       "</table>\n",
       "</div>"
      ],
      "text/plain": [
       "        Coast Degree  Members  Avg. # Friends\n",
       "0  East Coast    PhD       70             3.2\n",
       "1  West Coast    PhD       35             3.1\n",
       "2  East Coast     BS       33            13.4\n",
       "3  West Coast     BS       66            10.9"
      ]
     },
     "execution_count": 11,
     "metadata": {},
     "output_type": "execute_result"
    }
   ],
   "source": [
    "df"
   ]
  }
 ],
 "metadata": {
  "kernelspec": {
   "display_name": "Python 3",
   "language": "python",
   "name": "python3"
  },
  "language_info": {
   "codemirror_mode": {
    "name": "ipython",
    "version": 3
   },
   "file_extension": ".py",
   "mimetype": "text/x-python",
   "name": "python",
   "nbconvert_exporter": "python",
   "pygments_lexer": "ipython3",
   "version": "3.8.6"
  }
 },
 "nbformat": 4,
 "nbformat_minor": 5
}
