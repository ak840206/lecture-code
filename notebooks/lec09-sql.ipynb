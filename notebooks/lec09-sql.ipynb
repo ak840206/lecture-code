{
 "cells": [
  {
   "cell_type": "code",
   "execution_count": null,
   "id": "purple-fields",
   "metadata": {},
   "outputs": [],
   "source": [
    "import sqlite3 as sql"
   ]
  },
  {
   "cell_type": "code",
   "execution_count": null,
   "id": "corporate-noise",
   "metadata": {},
   "outputs": [],
   "source": [
    "# This is our connection to the database itself (think client <-> server)\n",
    "db_conn = sql.connect(\"test.db\")"
   ]
  },
  {
   "cell_type": "code",
   "execution_count": null,
   "id": "chubby-french",
   "metadata": {},
   "outputs": [],
   "source": [
    "# a 'cursor' lets you keep track of intermediate results/tables. Can be useful, but there are some drawbacks!\n",
    "cursor = db_conn.cursor()"
   ]
  },
  {
   "cell_type": "code",
   "execution_count": null,
   "id": "driving-objective",
   "metadata": {},
   "outputs": [],
   "source": [
    "# As mentioned last lecture, you have to think of the schema up front:\n",
    "\n",
    "cursor.execute(\"\"\"\n",
    "CREATE TABLE pets (\n",
    "    id INTEGER PRIMARY KEY,\n",
    "    name TEXT,\n",
    "    age REAL\n",
    ")\"\"\")\n",
    "\n",
    "#Capitalization doesn't matter, but this is idiomatic"
   ]
  },
  {
   "cell_type": "code",
   "execution_count": null,
   "id": "adverse-country",
   "metadata": {},
   "outputs": [],
   "source": [
    "my_pets = [(1, 'Sofie', 5.9),\n",
    "           (2, 'Pippin', 3.2),\n",
    "           (3, 'Billi', 18.2),\n",
    "           (4, 'Neko', 12.1),\n",
    "           (5, 'Koshka', 10),\n",
    "           (6, 'Kisu', 10)]"
   ]
  },
  {
   "cell_type": "code",
   "execution_count": null,
   "id": "sealed-petite",
   "metadata": {},
   "outputs": [],
   "source": [
    "# If your data is in a python structure, you can iterate and insert\n",
    "# (or serialize to a file and import)\n",
    "\n",
    "for p in my_pets:\n",
    "    cursor.execute(f\"INSERT INTO pets VALUES {p}\")"
   ]
  },
  {
   "cell_type": "code",
   "execution_count": null,
   "id": "fixed-resident",
   "metadata": {},
   "outputs": [],
   "source": [
    "# When you change the database, you have to 'commit' when you've reached a desired state\n",
    "db_conn.commit()"
   ]
  },
  {
   "cell_type": "code",
   "execution_count": null,
   "id": "desperate-account",
   "metadata": {},
   "outputs": [],
   "source": [
    "# you can execute arbitrary SQL:\n",
    "cursor.execute(\"SELECT * FROM pets\")"
   ]
  },
  {
   "cell_type": "code",
   "execution_count": null,
   "id": "lined-small",
   "metadata": {},
   "outputs": [],
   "source": [
    "# Fetch all 'flushes' the results of our query (pointed to by our cursor)\n",
    "rows = cursor.fetchall()"
   ]
  },
  {
   "cell_type": "code",
   "execution_count": null,
   "id": "level-furniture",
   "metadata": {},
   "outputs": [],
   "source": [
    "rows[4]"
   ]
  },
  {
   "cell_type": "code",
   "execution_count": null,
   "id": "colonial-element",
   "metadata": {},
   "outputs": [],
   "source": [
    "# The previous fetchall() already flushed all the intermediate results\n",
    "rows_empty = cursor.fetchall()"
   ]
  },
  {
   "cell_type": "code",
   "execution_count": null,
   "id": "eight-calculator",
   "metadata": {},
   "outputs": [],
   "source": [
    "rows_empty[4]"
   ]
  },
  {
   "cell_type": "code",
   "execution_count": null,
   "id": "bigger-boutique",
   "metadata": {},
   "outputs": [],
   "source": [
    "cursor.execute(\"SELECT * FROM pets WHERE age < 5\")"
   ]
  },
  {
   "cell_type": "code",
   "execution_count": null,
   "id": "challenging-prompt",
   "metadata": {},
   "outputs": [],
   "source": [
    "young_rows = cursor.fetchall()\n",
    "for r in young_rows:\n",
    "    print(r)"
   ]
  },
  {
   "cell_type": "code",
   "execution_count": null,
   "id": "identified-thickness",
   "metadata": {},
   "outputs": [],
   "source": [
    "for r in cursor.execute(\"SELECT * FROM pets WHERE age < 5\"):\n",
    "    print(r)"
   ]
  },
  {
   "cell_type": "code",
   "execution_count": null,
   "id": "spanish-heating",
   "metadata": {},
   "outputs": [],
   "source": [
    "# Be careful with what's pointing to a Python value and what's pointing to the DB\n",
    "for r in rows:\n",
    "    print(r)"
   ]
  },
  {
   "cell_type": "code",
   "execution_count": null,
   "id": "national-general",
   "metadata": {},
   "outputs": [],
   "source": [
    "# Multiple cursors can point to the same database, be careful!\n",
    "curse2 = db_conn.cursor()"
   ]
  },
  {
   "cell_type": "code",
   "execution_count": null,
   "id": "bored-stretch",
   "metadata": {},
   "outputs": [],
   "source": [
    "for r in cursor.execute(\"SELECT * FROM pets\"):\n",
    "    print(r)"
   ]
  },
  {
   "cell_type": "code",
   "execution_count": null,
   "id": "every-certification",
   "metadata": {},
   "outputs": [],
   "source": [
    "for r in curse2.execute(\"SELECT * FROM pets\"):\n",
    "    print(r)"
   ]
  },
  {
   "cell_type": "code",
   "execution_count": null,
   "id": "corrected-consequence",
   "metadata": {},
   "outputs": [],
   "source": [
    "cursor.execute(\"DELETE FROM pets WHERE id == 6\")\n",
    "db_conn.commit()"
   ]
  },
  {
   "cell_type": "code",
   "execution_count": null,
   "id": "broken-depression",
   "metadata": {},
   "outputs": [],
   "source": [
    "for r in curse2.execute(\"SELECT * FROM pets\"):\n",
    "    print(r)"
   ]
  },
  {
   "cell_type": "code",
   "execution_count": null,
   "id": "valued-bridges",
   "metadata": {},
   "outputs": [],
   "source": [
    "cursor.execute(\"INSERT INTO pets VALUES (7, 'Sasha', 3.5)\")"
   ]
  },
  {
   "cell_type": "code",
   "execution_count": null,
   "id": "satisfied-satellite",
   "metadata": {},
   "outputs": [],
   "source": [
    "insert_fetch = cursor.fetchall()"
   ]
  },
  {
   "cell_type": "code",
   "execution_count": null,
   "id": "labeled-chart",
   "metadata": {},
   "outputs": [],
   "source": [
    "insert_fetch"
   ]
  },
  {
   "cell_type": "code",
   "execution_count": null,
   "id": "african-speaking",
   "metadata": {},
   "outputs": [],
   "source": [
    "for r in curse2.execute(\"SELECT * FROM pets\"):\n",
    "    print(r)"
   ]
  },
  {
   "cell_type": "code",
   "execution_count": null,
   "id": "active-washington",
   "metadata": {},
   "outputs": [],
   "source": []
  }
 ],
 "metadata": {
  "kernelspec": {
   "display_name": "Python 3",
   "language": "python",
   "name": "python3"
  },
  "language_info": {
   "codemirror_mode": {
    "name": "ipython",
    "version": 3
   },
   "file_extension": ".py",
   "mimetype": "text/x-python",
   "name": "python",
   "nbconvert_exporter": "python",
   "pygments_lexer": "ipython3",
   "version": "3.8.6"
  }
 },
 "nbformat": 4,
 "nbformat_minor": 5
}
