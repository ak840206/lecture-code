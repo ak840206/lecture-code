{
 "cells": [
  {
   "cell_type": "code",
   "execution_count": null,
   "id": "c3db8cee-8e77-4525-ba25-a02b625469c7",
   "metadata": {},
   "outputs": [],
   "source": [
    "# Define functions\n",
    "def my_func(x,y):\n",
    "    if x > y:\n",
    "        return x\n",
    "    else:\n",
    "        return y"
   ]
  },
  {
   "cell_type": "code",
   "execution_count": null,
   "id": "0493a9cb-52c1-4a01-9fb5-0c84f1fbfc2f",
   "metadata": {},
   "outputs": [],
   "source": [
    "# Define function that returns tuple\n",
    "def my_func_tup(x, y):\n",
    "    return (x-1, y+1)"
   ]
  },
  {
   "cell_type": "code",
   "execution_count": null,
   "id": "3532bdda-1adf-4912-a8a2-e7ed8b491d40",
   "metadata": {},
   "outputs": [],
   "source": [
    "# use multiple return\n",
    "(a,b) = my_func_tup(1,2)\n",
    "print(a)\n",
    "print(b)"
   ]
  },
  {
   "cell_type": "code",
   "execution_count": null,
   "id": "39b28519-7713-46a0-8f2c-d40fe0326166",
   "metadata": {},
   "outputs": [],
   "source": [
    "# Master interview questions\n",
    "def interview(n):\n",
    "    if n % 3 == 0 and n % 5 == 0:\n",
    "        return 'FizzBuzz'\n",
    "    elif n % 3 == 0:\n",
    "        return 'Fizz'\n",
    "    elif n % 5 == 0:\n",
    "        return 'Buzz'\n",
    "    else:\n",
    "        return str(n)"
   ]
  },
  {
   "cell_type": "code",
   "execution_count": null,
   "id": "7c4bfb33-9b0b-4d04-b9a2-9c319f8ab380",
   "metadata": {},
   "outputs": [],
   "source": [
    "for i in range(1,101):\n",
    "    print(interview(i))"
   ]
  },
  {
   "cell_type": "markdown",
   "id": "4d135700-f100-4813-b11a-9b463cd0a158",
   "metadata": {},
   "source": [
    "# Useful Built-in functions\n",
    "\n",
    "## Counting and iterating"
   ]
  },
  {
   "cell_type": "code",
   "execution_count": null,
   "id": "919f4348-282a-4f3c-92f9-881ad90b205a",
   "metadata": {},
   "outputs": [],
   "source": [
    "len( ['c', 'm', 's', 'c', 3, 2, 0] )"
   ]
  },
  {
   "cell_type": "code",
   "execution_count": null,
   "id": "d3e3d666-9432-4fde-ad8e-71fc01f7f893",
   "metadata": {},
   "outputs": [],
   "source": [
    "list( range(10))"
   ]
  },
  {
   "cell_type": "code",
   "execution_count": null,
   "id": "74fcc9ba-b5ab-4c29-8a9d-eb0584bdee97",
   "metadata": {},
   "outputs": [],
   "source": [
    "list (enumerate( [\"311\", \"320\", \"330\"]))"
   ]
  },
  {
   "cell_type": "markdown",
   "id": "3f39f5f3-5172-4ba1-a583-e204a78b82a3",
   "metadata": {},
   "source": [
    "## Map and Filter"
   ]
  },
  {
   "cell_type": "code",
   "execution_count": null,
   "id": "96d5c419-2723-4379-a686-6c22cf573a8e",
   "metadata": {},
   "outputs": [],
   "source": [
    "arr = [1, 2, 3, 4, 5]\n",
    "list(map(lambda x: x**2, arr))"
   ]
  },
  {
   "cell_type": "code",
   "execution_count": null,
   "id": "8085b964-376a-430d-8588-574eb9a0060a",
   "metadata": {},
   "outputs": [],
   "source": [
    "arr = [1, 2, 3, 4, 5, 6, 7]\n",
    "list(filter(lambda x: x % 2 == 0, arr))"
   ]
  },
  {
   "cell_type": "markdown",
   "id": "f0ad3ffb-712d-4653-b297-d9b64d9898ee",
   "metadata": {},
   "source": [
    "# Being 'Pythonic'\n",
    "\n",
    "## Looping in Java:\n",
    "\n",
    "```{java}\n",
    "int[] arr = new int[10];\n",
    "for(int idx=0; idx<arr.length; ++idx) {\n",
    "    System.out.println( arr[idx] );\n",
    "}\n",
    "```\n",
    "\n",
    "## Direct translation (bad):\n",
    "\n",
    "```{python}\n",
    "idx = 0\n",
    "while idx < len(arr):\n",
    "    print( arr[idx] )\n",
    "    idx += 1\n",
    "```\n",
    "\n",
    "## Pythonic Version (good):\n",
    "\n",
    "```{python}\n",
    "for element in arr:\n",
    "    print( element )\n",
    "```"
   ]
  },
  {
   "cell_type": "markdown",
   "id": "e1558d05-b73d-4068-8985-8053b500aebd",
   "metadata": {},
   "source": [
    "# List Comprehensions\n",
    "\n",
    "Think of sets in Math:\n",
    "\n",
    "$P = \\{1,2,4,8, \\dots, 2^{16} \\}$\n",
    "\n",
    "$E = \\{ x | x \\in \\mathbb{N}, x \\% 2 \\neq 0, x < 1000\\}$"
   ]
  },
  {
   "cell_type": "code",
   "execution_count": null,
   "id": "b3756dfb-6d06-48cf-9265-da3adc2ca93a",
   "metadata": {},
   "outputs": [],
   "source": [
    "P = [ 2**x for x in range(17)]\n",
    "E = [ x for x in range(1000) if x % 2 != 0 ]"
   ]
  },
  {
   "cell_type": "markdown",
   "id": "c91f10fa-843b-4934-9da2-784e2bf2b175",
   "metadata": {},
   "source": [
    "# Exceptions"
   ]
  },
  {
   "cell_type": "code",
   "execution_count": null,
   "id": "35b5588b-5675-44f5-900c-47a073e93d11",
   "metadata": {},
   "outputs": [],
   "source": [
    "print('Python')\n",
    "try:\n",
    "    cause_a_NameError\n",
    "except NameError as err:\n",
    "    print(err, '-> some extra text')"
   ]
  },
  {
   "cell_type": "code",
   "execution_count": null,
   "id": "7a042a93-2c61-4e4f-9ff2-5d1b7395f27d",
   "metadata": {},
   "outputs": [],
   "source": []
  }
 ],
 "metadata": {
  "kernelspec": {
   "display_name": "Python 3 (ipykernel)",
   "language": "python",
   "name": "python3"
  },
  "language_info": {
   "codemirror_mode": {
    "name": "ipython",
    "version": 3
   },
   "file_extension": ".py",
   "mimetype": "text/x-python",
   "name": "python",
   "nbconvert_exporter": "python",
   "pygments_lexer": "ipython3",
   "version": "3.9.7"
  }
 },
 "nbformat": 4,
 "nbformat_minor": 5
}
