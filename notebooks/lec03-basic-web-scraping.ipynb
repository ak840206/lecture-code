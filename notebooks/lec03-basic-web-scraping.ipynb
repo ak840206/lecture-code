{
 "cells": [
  {
   "cell_type": "code",
   "execution_count": null,
   "id": "53049eec-b485-4f25-8d1f-d1a77d4dbca4",
   "metadata": {},
   "outputs": [],
   "source": [
    "import requests\n",
    "from bs4 import BeautifulSoup\n",
    "from urllib.parse import urlparse"
   ]
  },
  {
   "cell_type": "markdown",
   "id": "db4e46dc-9c93-4f76-8f6e-18c4b78be9d3",
   "metadata": {},
   "source": [
    "We can use `requests` to fetch data from websites.\n",
    "\n",
    "Sometimes this data is just the HTML itself:"
   ]
  },
  {
   "cell_type": "code",
   "execution_count": null,
   "id": "be142d1d-2cbb-420a-97dd-d87ef4c57047",
   "metadata": {},
   "outputs": [],
   "source": [
    "res = requests.get(\"https://cmsc320.github.io\")"
   ]
  },
  {
   "cell_type": "code",
   "execution_count": null,
   "id": "5da63b3f-6672-4858-9b88-96d094837154",
   "metadata": {},
   "outputs": [],
   "source": [
    "len(res.text)"
   ]
  },
  {
   "cell_type": "markdown",
   "id": "f267e730-e86d-465d-90b9-64e5c17eb84f",
   "metadata": {},
   "source": [
    "It's useful to separate out the `url` which is the service we are requesting data from, and the `parameters` which is the query we are making.\n",
    "\n",
    "A useful list of public APIs for practicing can be found at [https://github.com/public-apis/public-apis](https://github.com/public-apis/public-apis)\n",
    "\n",
    "For `gutendex` the result is not HTML, but JSON. You can find more information about the Gutendex API at their homepage: [gutendex.com](https://gutendex.com/)"
   ]
  },
  {
   "cell_type": "code",
   "execution_count": null,
   "id": "8edc2867-b0ae-40f4-ae88-a824a332129d",
   "metadata": {},
   "outputs": [],
   "source": [
    "url = \"https://gutendex.com/books\"\n",
    "\n",
    "params = { \"search\": \"Bhagavad\" }"
   ]
  },
  {
   "cell_type": "code",
   "execution_count": null,
   "id": "522d8211-b578-44f4-810a-19b91bd159a7",
   "metadata": {},
   "outputs": [],
   "source": [
    "res = requests.get( url, params )"
   ]
  },
  {
   "cell_type": "markdown",
   "id": "8fcd186d-62be-4e74-9e04-56a69774ceb4",
   "metadata": {},
   "source": [
    "You can use the `.json()` method on the result to turn the response into a dictionary. (Note: this only works for well-formed JSON, some websites may not provide well-formed JSON!)"
   ]
  },
  {
   "cell_type": "code",
   "execution_count": null,
   "id": "580b9318-8c01-4c93-8a33-508b4604390a",
   "metadata": {},
   "outputs": [],
   "source": [
    "d = res.json()\n",
    "type( d )"
   ]
  },
  {
   "cell_type": "markdown",
   "id": "0ac91b6b-d2f9-4910-aaf0-c3f0528922a3",
   "metadata": {},
   "source": [
    "You can then look up information about the resulting dictionary:"
   ]
  },
  {
   "cell_type": "code",
   "execution_count": null,
   "id": "cfff4479-404b-4d7a-b754-e94c74f24eea",
   "metadata": {},
   "outputs": [],
   "source": [
    "d.keys()"
   ]
  },
  {
   "cell_type": "code",
   "execution_count": null,
   "id": "0817398a-d8c9-4ce2-9e3e-9cafb1c4927c",
   "metadata": {},
   "outputs": [],
   "source": [
    "d['count']\n",
    "first = d['results'][0]\n",
    "first['title']"
   ]
  },
  {
   "cell_type": "code",
   "execution_count": null,
   "id": "4704c44e-6f25-44c8-af6a-5eb30c2457be",
   "metadata": {},
   "outputs": [],
   "source": [
    "first"
   ]
  },
  {
   "cell_type": "code",
   "execution_count": null,
   "id": "c75db288-0301-4f88-b14e-2d7d9d2f46ea",
   "metadata": {},
   "outputs": [],
   "source": []
  }
 ],
 "metadata": {
  "kernelspec": {
   "display_name": "Python 3 (ipykernel)",
   "language": "python",
   "name": "python3"
  },
  "language_info": {
   "codemirror_mode": {
    "name": "ipython",
    "version": 3
   },
   "file_extension": ".py",
   "mimetype": "text/x-python",
   "name": "python",
   "nbconvert_exporter": "python",
   "pygments_lexer": "ipython3",
   "version": "3.9.7"
  }
 },
 "nbformat": 4,
 "nbformat_minor": 5
}
